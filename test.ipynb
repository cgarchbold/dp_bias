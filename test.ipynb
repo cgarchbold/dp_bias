{
 "cells": [
  {
   "cell_type": "code",
   "execution_count": 26,
   "metadata": {},
   "outputs": [],
   "source": [
    "import os\n",
    "import torch\n",
    "import pandas as pd\n",
    "import numpy as np\n",
    "from torch.utils.data import Dataset\n",
    "from PIL import Image"
   ]
  },
  {
   "cell_type": "code",
   "execution_count": 27,
   "metadata": {},
   "outputs": [],
   "source": [
    "class FairFaceDataset(Dataset):\n",
    "    \"\"\"FairFace dataset.\"\"\"\n",
    "\n",
    "    def __init__(self, root_dir, train=True, transform=None):\n",
    "        \"\"\"\n",
    "        Arguments:\n",
    "            csv_file (string): Path to the csv file with annotations.\n",
    "            root_dir (string): Directory with all the images.\n",
    "            transform (callable, optional): Optional transform to be applied\n",
    "                on a sample.\n",
    "        \"\"\"\n",
    "        \n",
    "        self.root_dir = root_dir\n",
    "        self.transform = transform\n",
    "        if train:\n",
    "            csv_file = os.path.join(root_dir, 'fairface_label_train.csv')\n",
    "            self.anno = pd.read_csv(csv_file)\n",
    "        else:\n",
    "            csv_file = os.path.join(root_dir, 'fairface_label_val.csv')\n",
    "            self.anno = pd.read_csv(csv_file)\n",
    "\n",
    "        self.enc_age = {\"0-2\": 0, \"3-9\": 1, \"10-19\": 2, \"20-29\": 3, \"30-39\": 4, \"40-49\": 5, \"50-59\": 6, \"60-69\": 7, \"more than 70\": 8}\n",
    "        self.enc_gender = {\"Male\": 0, \"Female\": 1}\n",
    "        self.enc_race = {\"White\": 0, \"Latino_Hispanic\": 1, \"Indian\": 2, \"East Asian\": 3, \"Black\": 4, \"Southeast Asian\": 5, \"Middle Eastern\": 6}\n",
    "\n",
    "        # Convert categorical labels to numerical labels\n",
    "        self.anno[\"age\"] = self.anno[\"age\"].map(self.enc_age)\n",
    "        self.anno[\"gender\"] = self.anno[\"gender\"].map(self.enc_gender)\n",
    "        self.anno[\"race\"] = self.anno[\"race\"].map(self.enc_race)\n",
    "\n",
    "    def apply_bias(self):\n",
    "        \"\"\"Randomly removes half of all women and half of each specified race (Black, Indian, Middle Eastern).\"\"\"\n",
    "        \n",
    "        # Remove half of women\n",
    "        women_indices = self.anno[self.anno[\"gender\"] == 1].index\n",
    "        women_to_remove = np.random.choice(women_indices, size=len(women_indices) // 2, replace=False)\n",
    "\n",
    "        # Remove half of each specified race individually\n",
    "        races_to_remove = [2, 4, 6]  # Indian, Black, Middle Eastern\n",
    "        race_removals = []\n",
    "        \n",
    "        for race in races_to_remove:\n",
    "            race_indices = self.anno[self.anno[\"race\"] == race].index\n",
    "            race_to_remove = np.random.choice(race_indices, size=len(race_indices) // 2, replace=False)\n",
    "            race_removals.extend(race_to_remove)\n",
    "\n",
    "        # Combine indices to remove\n",
    "        to_remove = np.concatenate([women_to_remove, race_removals])\n",
    "        \n",
    "        # Drop selected rows\n",
    "        self.anno = self.anno.drop(to_remove).reset_index(drop=True)\n",
    "\n",
    "    def __len__(self):\n",
    "        return len(self.anno)\n",
    "\n",
    "    def __getitem__(self, idx):\n",
    "        if torch.is_tensor(idx):\n",
    "            idx = idx.tolist()\n",
    "\n",
    "        img_name = os.path.join(self.root_dir,\n",
    "                                self.anno.iloc[idx, 0])\n",
    "        image = Image.open(img_name)\n",
    "        labels = self.anno.iloc[idx, 1:4].to_list()\n",
    "        sample = {'image': image, 'labels': labels}\n",
    "\n",
    "        if self.transform:\n",
    "            sample = self.transform(sample)\n",
    "\n",
    "        return sample"
   ]
  },
  {
   "cell_type": "code",
   "execution_count": 28,
   "metadata": {},
   "outputs": [],
   "source": [
    "ds = FairFaceDataset(\"Z:\\\\data\\\\fairface-img-margin025-trainval\", transform = None )"
   ]
  },
  {
   "cell_type": "code",
   "execution_count": 29,
   "metadata": {},
   "outputs": [
    {
     "data": {
      "text/plain": [
       "86744"
      ]
     },
     "execution_count": 29,
     "metadata": {},
     "output_type": "execute_result"
    }
   ],
   "source": [
    "len(ds)"
   ]
  },
  {
   "cell_type": "code",
   "execution_count": 30,
   "metadata": {},
   "outputs": [
    {
     "data": {
      "text/plain": [
       "53162"
      ]
     },
     "execution_count": 30,
     "metadata": {},
     "output_type": "execute_result"
    }
   ],
   "source": [
    "ds2 = FairFaceDataset(\"Z:\\\\data\\\\fairface-img-margin025-trainval\", transform = None )\n",
    "ds2.apply_bias()\n",
    "\n",
    "len(ds2)"
   ]
  }
 ],
 "metadata": {
  "kernelspec": {
   "display_name": "dpface",
   "language": "python",
   "name": "python3"
  },
  "language_info": {
   "codemirror_mode": {
    "name": "ipython",
    "version": 3
   },
   "file_extension": ".py",
   "mimetype": "text/x-python",
   "name": "python",
   "nbconvert_exporter": "python",
   "pygments_lexer": "ipython3",
   "version": "3.12.4"
  }
 },
 "nbformat": 4,
 "nbformat_minor": 2
}
