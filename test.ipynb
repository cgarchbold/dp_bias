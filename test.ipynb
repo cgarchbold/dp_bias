{
 "cells": [
  {
   "cell_type": "code",
   "execution_count": null,
   "metadata": {},
   "outputs": [],
   "source": [
    "import os\n",
    "import torch\n",
    "import pandas as pd\n",
    "import numpy as np\n",
    "from torch.utils.data import Dataset\n",
    "from PIL import Image"
   ]
  },
  {
   "cell_type": "code",
   "execution_count": 22,
   "metadata": {},
   "outputs": [],
   "source": [
    "class FairFaceDataset(Dataset):\n",
    "    \"\"\"FairFace dataset.\"\"\"\n",
    "\n",
    "    def __init__(self, root_dir, train=True, transform=None):\n",
    "        \"\"\"\n",
    "        Arguments:\n",
    "            csv_file (string): Path to the csv file with annotations.\n",
    "            root_dir (string): Directory with all the images.\n",
    "            transform (callable, optional): Optional transform to be applied\n",
    "                on a sample.\n",
    "        \"\"\"\n",
    "        \n",
    "        self.root_dir = root_dir\n",
    "        self.transform = transform\n",
    "        if train:\n",
    "            csv_file = os.path.join(root_dir, 'fairface_label_train.csv')\n",
    "            self.anno = pd.read_csv(csv_file)\n",
    "        else:\n",
    "            csv_file = os.path.join(root_dir, 'fairface_label_val.csv')\n",
    "            self.anno = pd.read_csv(csv_file)\n",
    "\n",
    "        self.enc_age = {\"0-2\": 0, \"3-9\": 1, \"10-19\": 2, \"20-29\": 3, \"30-39\": 4, \"40-49\": 5, \"50-59\": 6, \"60-69\": 7, \"more than 70\": 8}\n",
    "        self.enc_gender = {\"Male\": 0, \"Female\": 1}\n",
    "        self.enc_race = {\"White\": 0, \"Latino_Hispanic\": 1, \"Indian\": 2, \"East Asian\": 3, \"Black\": 4, \"Southeast Asian\": 5, \"Middle Eastern\": 6}\n",
    "\n",
    "        # Convert categorical labels to numerical labels\n",
    "        self.anno[\"age\"] = self.anno[\"age\"].map(self.enc_age)\n",
    "        self.anno[\"gender\"] = self.anno[\"gender\"].map(self.enc_gender)\n",
    "        self.anno[\"race\"] = self.anno[\"race\"].map(self.enc_race)\n",
    "\n",
    "    \n",
    "\n",
    "    def __len__(self):\n",
    "        return len(self.anno)\n",
    "\n",
    "    def __getitem__(self, idx):\n",
    "        if torch.is_tensor(idx):\n",
    "            idx = idx.tolist()\n",
    "\n",
    "        img_name = os.path.join(self.root_dir,\n",
    "                                self.anno.iloc[idx, 0])\n",
    "        image = Image.open(img_name)\n",
    "        labels = self.anno.iloc[idx, 1:4].to_list()\n",
    "        sample = {'image': image, 'labels': labels}\n",
    "\n",
    "        if self.transform:\n",
    "            sample = self.transform(sample)\n",
    "\n",
    "        return sample"
   ]
  },
  {
   "cell_type": "code",
   "execution_count": 23,
   "metadata": {},
   "outputs": [],
   "source": [
    "ds = FairFaceDataset(\"Z:\\\\data\\\\fairface-img-margin025-trainval\", transform = None )"
   ]
  },
  {
   "cell_type": "code",
   "execution_count": 25,
   "metadata": {},
   "outputs": [
    {
     "data": {
      "text/plain": [
       "{'image': <PIL.JpegImagePlugin.JpegImageFile image mode=RGB size=224x224>,\n",
       " 'labels': [3, 0, 0]}"
      ]
     },
     "execution_count": 25,
     "metadata": {},
     "output_type": "execute_result"
    }
   ],
   "source": [
    "ds[5]"
   ]
  }
 ],
 "metadata": {
  "kernelspec": {
   "display_name": "dpface",
   "language": "python",
   "name": "python3"
  },
  "language_info": {
   "codemirror_mode": {
    "name": "ipython",
    "version": 3
   },
   "file_extension": ".py",
   "mimetype": "text/x-python",
   "name": "python",
   "nbconvert_exporter": "python",
   "pygments_lexer": "ipython3",
   "version": "3.12.4"
  }
 },
 "nbformat": 4,
 "nbformat_minor": 2
}
